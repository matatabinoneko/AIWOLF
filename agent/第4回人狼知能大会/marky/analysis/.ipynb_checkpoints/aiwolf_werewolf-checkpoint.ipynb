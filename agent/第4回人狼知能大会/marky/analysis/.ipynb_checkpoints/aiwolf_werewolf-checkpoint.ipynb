{
 "cells": [
  {
   "cell_type": "code",
   "execution_count": 1,
   "metadata": {},
   "outputs": [],
   "source": [
    "import pandas as pd\n",
    "import numpy as np\n",
    "import networkx as nx\n",
    "import matplotlib.pyplot as plt"
   ]
  },
  {
   "cell_type": "code",
   "execution_count": 2,
   "metadata": {},
   "outputs": [],
   "source": [
    "import aiwolfpy"
   ]
  },
  {
   "cell_type": "code",
   "execution_count": 3,
   "metadata": {},
   "outputs": [],
   "source": [
    "data = aiwolfpy.read_log(\"002.log\")\n",
    "data[\"idx\"] = pd.to_numeric(data[\"idx\"])"
   ]
  },
  {
   "cell_type": "code",
   "execution_count": 4,
   "metadata": {},
   "outputs": [],
   "source": [
    "role_list=[]\n",
    "for i in range(len(data[data[\"type\"]==\"initialize\"])):\n",
    "    role_list.append(data[data[\"type\"]==\"initialize\"][\"text\"].str.split()[i][2])\n",
    "role = pd.DataFrame(np.append((np.arange(len(data[data[\"type\"]==\"initialize\"]))+1)[:,np.newaxis], np.array(role_list)[:,np.newaxis], axis=1))\n",
    "role.columns = [\"agent\", \"role\"]\n",
    "role[\"agent\"] = pd.to_numeric(role[\"agent\"])"
   ]
  },
  {
   "cell_type": "code",
   "execution_count": 5,
   "metadata": {},
   "outputs": [
    {
     "data": {
      "text/html": [
       "<div>\n",
       "<style scoped>\n",
       "    .dataframe tbody tr th:only-of-type {\n",
       "        vertical-align: middle;\n",
       "    }\n",
       "\n",
       "    .dataframe tbody tr th {\n",
       "        vertical-align: top;\n",
       "    }\n",
       "\n",
       "    .dataframe thead th {\n",
       "        text-align: right;\n",
       "    }\n",
       "</style>\n",
       "<table border=\"1\" class=\"dataframe\">\n",
       "  <thead>\n",
       "    <tr style=\"text-align: right;\">\n",
       "      <th></th>\n",
       "      <th>day</th>\n",
       "      <th>type</th>\n",
       "      <th>idx</th>\n",
       "      <th>turn</th>\n",
       "      <th>agent</th>\n",
       "      <th>text</th>\n",
       "      <th>role</th>\n",
       "    </tr>\n",
       "  </thead>\n",
       "  <tbody>\n",
       "    <tr>\n",
       "      <th>0</th>\n",
       "      <td>1</td>\n",
       "      <td>talk</td>\n",
       "      <td>3</td>\n",
       "      <td>0</td>\n",
       "      <td>4</td>\n",
       "      <td>COMINGOUT Agent[04] SEER</td>\n",
       "      <td>POSSESSED</td>\n",
       "    </tr>\n",
       "    <tr>\n",
       "      <th>1</th>\n",
       "      <td>1</td>\n",
       "      <td>talk</td>\n",
       "      <td>4</td>\n",
       "      <td>0</td>\n",
       "      <td>5</td>\n",
       "      <td>COMINGOUT Agent[05] SEER</td>\n",
       "      <td>SEER</td>\n",
       "    </tr>\n",
       "  </tbody>\n",
       "</table>\n",
       "</div>"
      ],
      "text/plain": [
       "   day  type  idx  turn  agent                      text       role\n",
       "0    1  talk    3     0      4  COMINGOUT Agent[04] SEER  POSSESSED\n",
       "1    1  talk    4     0      5  COMINGOUT Agent[05] SEER       SEER"
      ]
     },
     "execution_count": 5,
     "metadata": {},
     "output_type": "execute_result"
    }
   ],
   "source": [
    "pd.merge(data[data[\"day\"]==1][data[data[\"day\"]==1][\"text\"].str.contains(\"COMINGOUT\")], role, on=\"agent\")"
   ]
  },
  {
   "cell_type": "code",
   "execution_count": null,
   "metadata": {},
   "outputs": [],
   "source": []
  },
  {
   "cell_type": "code",
   "execution_count": 6,
   "metadata": {},
   "outputs": [],
   "source": [
    "for i in range(len(pd.merge(data[data[\"type\"]==\"divine\"], role, on=\"agent\"))):\n",
    "    pd.merge(data[data[\"type\"]==\"divine\"], role, on=\"agent\")[\"role\"].values[i] in pd.merge(data[data[\"type\"]==\"divine\"], role, on=\"agent\")[\"text\"]"
   ]
  },
  {
   "cell_type": "code",
   "execution_count": null,
   "metadata": {},
   "outputs": [],
   "source": []
  },
  {
   "cell_type": "code",
   "execution_count": 7,
   "metadata": {},
   "outputs": [],
   "source": [
    "uso_black = []\n",
    "\n",
    "for i in range(100):\n",
    "    if i <= 9:\n",
    "        data = aiwolfpy.read_log(\"00\"+str(i)+\".log\")\n",
    "    else:\n",
    "        data = aiwolfpy.read_log(\"0\"+str(i)+\".log\")\n",
    "    data[\"idx\"] == pd.to_numeric(data[\"idx\"])\n",
    "\n",
    "    role_list=[]\n",
    "    for k in range(len(data[data[\"type\"]==\"initialize\"])):\n",
    "        role_list.append(data[data[\"type\"]==\"initialize\"][\"text\"].str.split()[k][2])\n",
    "    role = pd.DataFrame(np.append((np.arange(len(data[data[\"type\"]==\"initialize\"]))+1)[:,np.newaxis], np.array(role_list)[:,np.newaxis], axis=1))\n",
    "    role.columns = [\"agent\", \"role\"]\n",
    "    role[\"agent\"] = pd.to_numeric(role[\"agent\"])\n",
    "\n",
    "    if len(pd.merge(data[data[\"type\"]==\"divine\"], role, on=\"agent\")[pd.merge(data[data[\"type\"]==\"divine\"], role, on=\"agent\")[\"text\"].str.contains(\"WEREWOLF\")]) ==0:\n",
    "        continue\n",
    "    elif np.sum(\"WEREWOLF\" in pd.merge(data[data[\"type\"]==\"divine\"], role, on=\"agent\")[pd.merge(data[data[\"type\"]==\"divine\"], role, on=\"agent\")[\"text\"].str.contains(\"WEREWOLF\")][\"role\"].values) == 0:\n",
    "        uso_black.append(i)"
   ]
  },
  {
   "cell_type": "code",
   "execution_count": 9,
   "metadata": {},
   "outputs": [],
   "source": [
    "div_res = []\n",
    "for i in range(100):\n",
    "    if i <= 9:\n",
    "        data = aiwolfpy.read_log(\"00\"+str(i)+\".log\")\n",
    "    else:\n",
    "        data = aiwolfpy.read_log(\"0\"+str(i)+\".log\")\n",
    "    role_list=[]\n",
    "    for i in range(len(data[data[\"type\"]==\"initialize\"])):\n",
    "        role_list.append(data[data[\"type\"]==\"initialize\"][\"text\"].str.split()[i][2])\n",
    "    role = pd.DataFrame(np.append((np.arange(len(data[data[\"type\"]==\"initialize\"]))+1)[:,np.newaxis], np.array(role_list)[:,np.newaxis], axis=1))\n",
    "    role.columns = [\"agent\", \"role\"]\n",
    "    role[\"agent\"] = pd.to_numeric(role[\"agent\"])\n",
    "    role.columns = [\"agent\", \"role\"]\n",
    "    role[\"agent\"] = pd.to_numeric(role[\"agent\"])\n",
    "    day = 0\n",
    "    temp = data[data[\"day\"] == day+1][data[data[\"day\"] == day+1][\"type\"]==\"talk\"]\\\n",
    "            [data[data[\"day\"] == day+1][data[data[\"day\"] == day+1][\"type\"]==\"talk\"]\\\n",
    "             [\"text\"].str.contains(\"DIVINED\")]\n",
    "    uranaisaki = data[data[\"day\"] == day+1][data[data[\"day\"] == day+1][\"type\"]==\"talk\"]\\\n",
    "            [data[data[\"day\"] == day+1][data[data[\"day\"] == day+1][\"type\"]==\"talk\"]\\\n",
    "             [\"text\"].str.contains(\"DIVINED\")][\"text\"].str.extract(\"(\\d+)\")\n",
    "    uranaisaki.columns=[\"uranaisaki\"]\n",
    "    uranaisaki[\"uranaisaki\"] = pd.to_numeric(uranaisaki[\"uranaisaki\"])\n",
    "    uranai = pd.merge(pd.merge(temp.join(uranaisaki), role, on=[\"agent\"]),role, left_on=\"uranaisaki\", right_on = \"agent\")\n",
    "    if len(uranai[uranai[\"role_x\"]==\"POSSESSED\"])>0:\n",
    "        div_res.append([uranai[uranai[\"role_x\"]==\"POSSESSED\"][\"role_y\"].values[0]\n",
    "                        , uranai[uranai[\"role_x\"]==\"POSSESSED\"][\"text\"].str.split().values[0][2]\n",
    "                        , np.sum(\"WEREWOLF\" in np.append(pd.merge(data[data[\"type\"]==\"dead\"],role,on=\"agent\")[\"role\"].values,pd.merge(data[data[\"type\"]==\"execute\"],role,on=\"agent\")[\"role\"].values))])\n",
    "    else:\n",
    "        continue"
   ]
  },
  {
   "cell_type": "code",
   "execution_count": 10,
   "metadata": {},
   "outputs": [
    {
     "data": {
      "text/html": [
       "<div>\n",
       "<style scoped>\n",
       "    .dataframe tbody tr th:only-of-type {\n",
       "        vertical-align: middle;\n",
       "    }\n",
       "\n",
       "    .dataframe tbody tr th {\n",
       "        vertical-align: top;\n",
       "    }\n",
       "\n",
       "    .dataframe thead th {\n",
       "        text-align: right;\n",
       "    }\n",
       "</style>\n",
       "<table border=\"1\" class=\"dataframe\">\n",
       "  <thead>\n",
       "    <tr style=\"text-align: right;\">\n",
       "      <th></th>\n",
       "      <th>to_whom</th>\n",
       "      <th>hantei</th>\n",
       "      <th>lose</th>\n",
       "    </tr>\n",
       "  </thead>\n",
       "  <tbody>\n",
       "    <tr>\n",
       "      <th>0</th>\n",
       "      <td>SEER</td>\n",
       "      <td>WEREWOLF</td>\n",
       "      <td>0</td>\n",
       "    </tr>\n",
       "    <tr>\n",
       "      <th>1</th>\n",
       "      <td>VILLAGER</td>\n",
       "      <td>WEREWOLF</td>\n",
       "      <td>0</td>\n",
       "    </tr>\n",
       "    <tr>\n",
       "      <th>2</th>\n",
       "      <td>SEER</td>\n",
       "      <td>WEREWOLF</td>\n",
       "      <td>1</td>\n",
       "    </tr>\n",
       "    <tr>\n",
       "      <th>3</th>\n",
       "      <td>VILLAGER</td>\n",
       "      <td>HUMAN</td>\n",
       "      <td>1</td>\n",
       "    </tr>\n",
       "    <tr>\n",
       "      <th>4</th>\n",
       "      <td>SEER</td>\n",
       "      <td>WEREWOLF</td>\n",
       "      <td>0</td>\n",
       "    </tr>\n",
       "  </tbody>\n",
       "</table>\n",
       "</div>"
      ],
      "text/plain": [
       "    to_whom    hantei  lose\n",
       "0      SEER  WEREWOLF     0\n",
       "1  VILLAGER  WEREWOLF     0\n",
       "2      SEER  WEREWOLF     1\n",
       "3  VILLAGER     HUMAN     1\n",
       "4      SEER  WEREWOLF     0"
      ]
     },
     "execution_count": 10,
     "metadata": {},
     "output_type": "execute_result"
    }
   ],
   "source": [
    "possessed_uranai = pd.DataFrame(div_res)\n",
    "possessed_uranai.columns = [\"to_whom\",\"hantei\",\"lose\"]\n",
    "possessed_uranai.head()"
   ]
  },
  {
   "cell_type": "code",
   "execution_count": null,
   "metadata": {},
   "outputs": [],
   "source": []
  },
  {
   "cell_type": "code",
   "execution_count": 11,
   "metadata": {},
   "outputs": [],
   "source": [
    "wingame_num = possessed_uranai[possessed_uranai[\"lose\"]==0][possessed_uranai[possessed_uranai[\"lose\"]==0][\"hantei\"]==\"WEREWOLF\"].index"
   ]
  },
  {
   "cell_type": "code",
   "execution_count": 12,
   "metadata": {},
   "outputs": [
    {
     "data": {
      "text/plain": [
       "Int64Index([ 0,  1,  4,  7,  8, 10, 12, 14, 15, 19, 20, 22, 25, 35, 36, 45, 49,\n",
       "            50, 54, 55, 56, 57, 65, 69, 70, 71, 77, 78, 80, 82, 85, 87, 90, 91,\n",
       "            95, 96],\n",
       "           dtype='int64')"
      ]
     },
     "execution_count": 12,
     "metadata": {},
     "output_type": "execute_result"
    }
   ],
   "source": [
    "wingame_num"
   ]
  },
  {
   "cell_type": "code",
   "execution_count": null,
   "metadata": {},
   "outputs": [],
   "source": []
  },
  {
   "cell_type": "code",
   "execution_count": null,
   "metadata": {},
   "outputs": [],
   "source": []
  },
  {
   "cell_type": "code",
   "execution_count": 13,
   "metadata": {},
   "outputs": [],
   "source": [
    "wolf_seer_win = []\n",
    "wolf_seer_lose = []\n",
    "for i in range(100):\n",
    "    if i <= 9:\n",
    "        data = aiwolfpy.read_log(\"00\"+str(i)+\".log\")\n",
    "    else:\n",
    "        data = aiwolfpy.read_log(\"0\"+str(i)+\".log\")\n",
    "    data[\"idx\"] == pd.to_numeric(data[\"idx\"])\n",
    "\n",
    "    role_list=[]\n",
    "    for k in range(len(data[data[\"type\"]==\"initialize\"])):\n",
    "        role_list.append(data[data[\"type\"]==\"initialize\"][\"text\"].str.split()[k][2])\n",
    "    role = pd.DataFrame(np.append((np.arange(len(data[data[\"type\"]==\"initialize\"]))+1)[:,np.newaxis], np.array(role_list)[:,np.newaxis], axis=1))\n",
    "    role.columns = [\"agent\", \"role\"]\n",
    "    role[\"agent\"] = pd.to_numeric(role[\"agent\"])\n",
    "\n",
    "    talk = data[data[\"type\"]==\"talk\"]\n",
    "    if pd.merge(talk[(talk[\"text\"].str.contains(\"COMINGOUT\")) & (talk[\"text\"].str.contains(\"SEER\"))], role, on=\"agent\").isin([\"WEREWOLF\"]).any(axis=1).sum()>0:\n",
    "        if pd.merge(data[data[\"type\"]==\"execute\"], role, on=\"agent\").isin([\"WEREWOLF\"]).any(axis=1).sum() < 1:\n",
    "            wolf_seer_win.append(i)\n",
    "        else:\n",
    "            wolf_seer_lose.append(i)"
   ]
  },
  {
   "cell_type": "code",
   "execution_count": 14,
   "metadata": {},
   "outputs": [
    {
     "data": {
      "text/plain": [
       "array([ 7, 12, 15, 30, 52, 86])"
      ]
     },
     "execution_count": 14,
     "metadata": {},
     "output_type": "execute_result"
    }
   ],
   "source": [
    "np.array(wolf_seer_win)"
   ]
  },
  {
   "cell_type": "code",
   "execution_count": 15,
   "metadata": {},
   "outputs": [
    {
     "data": {
      "text/plain": [
       "array([ 6, 16, 17, 31, 40, 53, 79, 89, 99])"
      ]
     },
     "execution_count": 15,
     "metadata": {},
     "output_type": "execute_result"
    }
   ],
   "source": [
    "np.array(wolf_seer_lose)"
   ]
  },
  {
   "cell_type": "code",
   "execution_count": 16,
   "metadata": {},
   "outputs": [
    {
     "data": {
      "text/plain": [
       "0.4"
      ]
     },
     "execution_count": 16,
     "metadata": {},
     "output_type": "execute_result"
    }
   ],
   "source": [
    "len(np.array(wolf_seer_win)) / (len(np.array(wolf_seer_win))+len(np.array(wolf_seer_lose)))"
   ]
  },
  {
   "cell_type": "code",
   "execution_count": null,
   "metadata": {},
   "outputs": [],
   "source": []
  },
  {
   "cell_type": "code",
   "execution_count": null,
   "metadata": {},
   "outputs": [],
   "source": []
  },
  {
   "cell_type": "code",
   "execution_count": 17,
   "metadata": {},
   "outputs": [
    {
     "data": {
      "text/html": [
       "<div>\n",
       "<style scoped>\n",
       "    .dataframe tbody tr th:only-of-type {\n",
       "        vertical-align: middle;\n",
       "    }\n",
       "\n",
       "    .dataframe tbody tr th {\n",
       "        vertical-align: top;\n",
       "    }\n",
       "\n",
       "    .dataframe thead th {\n",
       "        text-align: right;\n",
       "    }\n",
       "</style>\n",
       "<table border=\"1\" class=\"dataframe\">\n",
       "  <thead>\n",
       "    <tr style=\"text-align: right;\">\n",
       "      <th></th>\n",
       "      <th>day</th>\n",
       "      <th>type</th>\n",
       "      <th>idx</th>\n",
       "      <th>turn</th>\n",
       "      <th>agent</th>\n",
       "      <th>text</th>\n",
       "      <th>role</th>\n",
       "    </tr>\n",
       "  </thead>\n",
       "  <tbody>\n",
       "    <tr>\n",
       "      <th>0</th>\n",
       "      <td>1</td>\n",
       "      <td>talk</td>\n",
       "      <td>1</td>\n",
       "      <td>0</td>\n",
       "      <td>4</td>\n",
       "      <td>COMINGOUT Agent[04] SEER</td>\n",
       "      <td>POSSESSED</td>\n",
       "    </tr>\n",
       "    <tr>\n",
       "      <th>1</th>\n",
       "      <td>1</td>\n",
       "      <td>talk</td>\n",
       "      <td>2</td>\n",
       "      <td>0</td>\n",
       "      <td>3</td>\n",
       "      <td>COMINGOUT Agent[03] SEER</td>\n",
       "      <td>SEER</td>\n",
       "    </tr>\n",
       "    <tr>\n",
       "      <th>2</th>\n",
       "      <td>1</td>\n",
       "      <td>talk</td>\n",
       "      <td>3</td>\n",
       "      <td>0</td>\n",
       "      <td>1</td>\n",
       "      <td>COMINGOUT Agent[01] SEER</td>\n",
       "      <td>WEREWOLF</td>\n",
       "    </tr>\n",
       "  </tbody>\n",
       "</table>\n",
       "</div>"
      ],
      "text/plain": [
       "   day  type  idx  turn  agent                      text       role\n",
       "0    1  talk    1     0      4  COMINGOUT Agent[04] SEER  POSSESSED\n",
       "1    1  talk    2     0      3  COMINGOUT Agent[03] SEER       SEER\n",
       "2    1  talk    3     0      1  COMINGOUT Agent[01] SEER   WEREWOLF"
      ]
     },
     "execution_count": 17,
     "metadata": {},
     "output_type": "execute_result"
    }
   ],
   "source": [
    "pd.merge(talk[(talk[\"text\"].str.contains(\"COMINGOUT\")) & (talk[\"text\"].str.contains(\"SEER\"))], role, on=\"agent\")"
   ]
  },
  {
   "cell_type": "code",
   "execution_count": null,
   "metadata": {},
   "outputs": [],
   "source": []
  },
  {
   "cell_type": "code",
   "execution_count": null,
   "metadata": {},
   "outputs": [],
   "source": []
  },
  {
   "cell_type": "code",
   "execution_count": 18,
   "metadata": {},
   "outputs": [
    {
     "data": {
      "text/html": [
       "<div>\n",
       "<style scoped>\n",
       "    .dataframe tbody tr th:only-of-type {\n",
       "        vertical-align: middle;\n",
       "    }\n",
       "\n",
       "    .dataframe tbody tr th {\n",
       "        vertical-align: top;\n",
       "    }\n",
       "\n",
       "    .dataframe thead th {\n",
       "        text-align: right;\n",
       "    }\n",
       "</style>\n",
       "<table border=\"1\" class=\"dataframe\">\n",
       "  <thead>\n",
       "    <tr style=\"text-align: right;\">\n",
       "      <th></th>\n",
       "      <th>day</th>\n",
       "      <th>type</th>\n",
       "      <th>idx</th>\n",
       "      <th>turn</th>\n",
       "      <th>agent</th>\n",
       "      <th>text</th>\n",
       "    </tr>\n",
       "  </thead>\n",
       "  <tbody>\n",
       "    <tr>\n",
       "      <th>2</th>\n",
       "      <td>0</td>\n",
       "      <td>initialize</td>\n",
       "      <td>3</td>\n",
       "      <td>0</td>\n",
       "      <td>3</td>\n",
       "      <td>COMINGOUT Agent[03] SEER</td>\n",
       "    </tr>\n",
       "    <tr>\n",
       "      <th>7</th>\n",
       "      <td>1</td>\n",
       "      <td>talk</td>\n",
       "      <td>1</td>\n",
       "      <td>0</td>\n",
       "      <td>4</td>\n",
       "      <td>COMINGOUT Agent[04] SEER</td>\n",
       "    </tr>\n",
       "    <tr>\n",
       "      <th>8</th>\n",
       "      <td>1</td>\n",
       "      <td>talk</td>\n",
       "      <td>2</td>\n",
       "      <td>0</td>\n",
       "      <td>3</td>\n",
       "      <td>COMINGOUT Agent[03] SEER</td>\n",
       "    </tr>\n",
       "    <tr>\n",
       "      <th>9</th>\n",
       "      <td>1</td>\n",
       "      <td>talk</td>\n",
       "      <td>3</td>\n",
       "      <td>0</td>\n",
       "      <td>1</td>\n",
       "      <td>COMINGOUT Agent[01] SEER</td>\n",
       "    </tr>\n",
       "  </tbody>\n",
       "</table>\n",
       "</div>"
      ],
      "text/plain": [
       "   day        type  idx  turn  agent                      text\n",
       "2    0  initialize    3     0      3  COMINGOUT Agent[03] SEER\n",
       "7    1        talk    1     0      4  COMINGOUT Agent[04] SEER\n",
       "8    1        talk    2     0      3  COMINGOUT Agent[03] SEER\n",
       "9    1        talk    3     0      1  COMINGOUT Agent[01] SEER"
      ]
     },
     "execution_count": 18,
     "metadata": {},
     "output_type": "execute_result"
    }
   ],
   "source": [
    "data[(data[\"text\"].str.contains(\"COMINGOUT\") & data[\"text\"].str.contains(\"SEER\"))]"
   ]
  },
  {
   "cell_type": "code",
   "execution_count": 19,
   "metadata": {},
   "outputs": [
    {
     "data": {
      "text/plain": [
       "True"
      ]
     },
     "execution_count": 19,
     "metadata": {},
     "output_type": "execute_result"
    }
   ],
   "source": [
    "talk = data[data[\"type\"]==\"talk\"]\n",
    "\"WEREWOLF\" in pd.merge(talk[(talk[\"text\"].str.contains(\"COMINGOUT\")) & (talk[\"text\"].str.contains(\"SEER\"))], role,left_on=\"idx\", right_on=\"agent\")[\"role\"].values"
   ]
  },
  {
   "cell_type": "code",
   "execution_count": null,
   "metadata": {},
   "outputs": [],
   "source": []
  },
  {
   "cell_type": "code",
   "execution_count": null,
   "metadata": {},
   "outputs": [],
   "source": []
  },
  {
   "cell_type": "code",
   "execution_count": 20,
   "metadata": {},
   "outputs": [
    {
     "data": {
      "text/html": [
       "<div>\n",
       "<style scoped>\n",
       "    .dataframe tbody tr th:only-of-type {\n",
       "        vertical-align: middle;\n",
       "    }\n",
       "\n",
       "    .dataframe tbody tr th {\n",
       "        vertical-align: top;\n",
       "    }\n",
       "\n",
       "    .dataframe thead th {\n",
       "        text-align: right;\n",
       "    }\n",
       "</style>\n",
       "<table border=\"1\" class=\"dataframe\">\n",
       "  <thead>\n",
       "    <tr style=\"text-align: right;\">\n",
       "      <th></th>\n",
       "      <th>to_whom</th>\n",
       "      <th>hantei</th>\n",
       "      <th>lose</th>\n",
       "    </tr>\n",
       "  </thead>\n",
       "  <tbody>\n",
       "    <tr>\n",
       "      <th>0</th>\n",
       "      <td>SEER</td>\n",
       "      <td>WEREWOLF</td>\n",
       "      <td>0</td>\n",
       "    </tr>\n",
       "    <tr>\n",
       "      <th>1</th>\n",
       "      <td>VILLAGER</td>\n",
       "      <td>WEREWOLF</td>\n",
       "      <td>0</td>\n",
       "    </tr>\n",
       "    <tr>\n",
       "      <th>4</th>\n",
       "      <td>SEER</td>\n",
       "      <td>WEREWOLF</td>\n",
       "      <td>0</td>\n",
       "    </tr>\n",
       "    <tr>\n",
       "      <th>7</th>\n",
       "      <td>SEER</td>\n",
       "      <td>WEREWOLF</td>\n",
       "      <td>0</td>\n",
       "    </tr>\n",
       "    <tr>\n",
       "      <th>8</th>\n",
       "      <td>VILLAGER</td>\n",
       "      <td>WEREWOLF</td>\n",
       "      <td>0</td>\n",
       "    </tr>\n",
       "    <tr>\n",
       "      <th>10</th>\n",
       "      <td>SEER</td>\n",
       "      <td>WEREWOLF</td>\n",
       "      <td>0</td>\n",
       "    </tr>\n",
       "    <tr>\n",
       "      <th>12</th>\n",
       "      <td>VILLAGER</td>\n",
       "      <td>WEREWOLF</td>\n",
       "      <td>0</td>\n",
       "    </tr>\n",
       "    <tr>\n",
       "      <th>14</th>\n",
       "      <td>VILLAGER</td>\n",
       "      <td>WEREWOLF</td>\n",
       "      <td>0</td>\n",
       "    </tr>\n",
       "    <tr>\n",
       "      <th>15</th>\n",
       "      <td>VILLAGER</td>\n",
       "      <td>WEREWOLF</td>\n",
       "      <td>0</td>\n",
       "    </tr>\n",
       "    <tr>\n",
       "      <th>19</th>\n",
       "      <td>SEER</td>\n",
       "      <td>WEREWOLF</td>\n",
       "      <td>0</td>\n",
       "    </tr>\n",
       "    <tr>\n",
       "      <th>20</th>\n",
       "      <td>SEER</td>\n",
       "      <td>WEREWOLF</td>\n",
       "      <td>0</td>\n",
       "    </tr>\n",
       "    <tr>\n",
       "      <th>22</th>\n",
       "      <td>SEER</td>\n",
       "      <td>WEREWOLF</td>\n",
       "      <td>0</td>\n",
       "    </tr>\n",
       "    <tr>\n",
       "      <th>25</th>\n",
       "      <td>VILLAGER</td>\n",
       "      <td>WEREWOLF</td>\n",
       "      <td>0</td>\n",
       "    </tr>\n",
       "    <tr>\n",
       "      <th>35</th>\n",
       "      <td>SEER</td>\n",
       "      <td>WEREWOLF</td>\n",
       "      <td>0</td>\n",
       "    </tr>\n",
       "    <tr>\n",
       "      <th>36</th>\n",
       "      <td>VILLAGER</td>\n",
       "      <td>WEREWOLF</td>\n",
       "      <td>0</td>\n",
       "    </tr>\n",
       "    <tr>\n",
       "      <th>45</th>\n",
       "      <td>VILLAGER</td>\n",
       "      <td>WEREWOLF</td>\n",
       "      <td>0</td>\n",
       "    </tr>\n",
       "    <tr>\n",
       "      <th>49</th>\n",
       "      <td>VILLAGER</td>\n",
       "      <td>WEREWOLF</td>\n",
       "      <td>0</td>\n",
       "    </tr>\n",
       "    <tr>\n",
       "      <th>50</th>\n",
       "      <td>WEREWOLF</td>\n",
       "      <td>WEREWOLF</td>\n",
       "      <td>0</td>\n",
       "    </tr>\n",
       "    <tr>\n",
       "      <th>54</th>\n",
       "      <td>SEER</td>\n",
       "      <td>WEREWOLF</td>\n",
       "      <td>0</td>\n",
       "    </tr>\n",
       "    <tr>\n",
       "      <th>55</th>\n",
       "      <td>VILLAGER</td>\n",
       "      <td>WEREWOLF</td>\n",
       "      <td>0</td>\n",
       "    </tr>\n",
       "    <tr>\n",
       "      <th>56</th>\n",
       "      <td>VILLAGER</td>\n",
       "      <td>WEREWOLF</td>\n",
       "      <td>0</td>\n",
       "    </tr>\n",
       "    <tr>\n",
       "      <th>57</th>\n",
       "      <td>VILLAGER</td>\n",
       "      <td>WEREWOLF</td>\n",
       "      <td>0</td>\n",
       "    </tr>\n",
       "    <tr>\n",
       "      <th>65</th>\n",
       "      <td>VILLAGER</td>\n",
       "      <td>WEREWOLF</td>\n",
       "      <td>0</td>\n",
       "    </tr>\n",
       "    <tr>\n",
       "      <th>69</th>\n",
       "      <td>SEER</td>\n",
       "      <td>WEREWOLF</td>\n",
       "      <td>0</td>\n",
       "    </tr>\n",
       "    <tr>\n",
       "      <th>70</th>\n",
       "      <td>SEER</td>\n",
       "      <td>WEREWOLF</td>\n",
       "      <td>0</td>\n",
       "    </tr>\n",
       "    <tr>\n",
       "      <th>71</th>\n",
       "      <td>SEER</td>\n",
       "      <td>WEREWOLF</td>\n",
       "      <td>0</td>\n",
       "    </tr>\n",
       "    <tr>\n",
       "      <th>77</th>\n",
       "      <td>VILLAGER</td>\n",
       "      <td>WEREWOLF</td>\n",
       "      <td>0</td>\n",
       "    </tr>\n",
       "    <tr>\n",
       "      <th>78</th>\n",
       "      <td>SEER</td>\n",
       "      <td>WEREWOLF</td>\n",
       "      <td>0</td>\n",
       "    </tr>\n",
       "    <tr>\n",
       "      <th>80</th>\n",
       "      <td>SEER</td>\n",
       "      <td>WEREWOLF</td>\n",
       "      <td>0</td>\n",
       "    </tr>\n",
       "    <tr>\n",
       "      <th>82</th>\n",
       "      <td>VILLAGER</td>\n",
       "      <td>WEREWOLF</td>\n",
       "      <td>0</td>\n",
       "    </tr>\n",
       "    <tr>\n",
       "      <th>85</th>\n",
       "      <td>WEREWOLF</td>\n",
       "      <td>WEREWOLF</td>\n",
       "      <td>0</td>\n",
       "    </tr>\n",
       "    <tr>\n",
       "      <th>87</th>\n",
       "      <td>SEER</td>\n",
       "      <td>WEREWOLF</td>\n",
       "      <td>0</td>\n",
       "    </tr>\n",
       "    <tr>\n",
       "      <th>90</th>\n",
       "      <td>WEREWOLF</td>\n",
       "      <td>WEREWOLF</td>\n",
       "      <td>0</td>\n",
       "    </tr>\n",
       "    <tr>\n",
       "      <th>91</th>\n",
       "      <td>SEER</td>\n",
       "      <td>WEREWOLF</td>\n",
       "      <td>0</td>\n",
       "    </tr>\n",
       "    <tr>\n",
       "      <th>95</th>\n",
       "      <td>VILLAGER</td>\n",
       "      <td>WEREWOLF</td>\n",
       "      <td>0</td>\n",
       "    </tr>\n",
       "    <tr>\n",
       "      <th>96</th>\n",
       "      <td>VILLAGER</td>\n",
       "      <td>WEREWOLF</td>\n",
       "      <td>0</td>\n",
       "    </tr>\n",
       "  </tbody>\n",
       "</table>\n",
       "</div>"
      ],
      "text/plain": [
       "     to_whom    hantei  lose\n",
       "0       SEER  WEREWOLF     0\n",
       "1   VILLAGER  WEREWOLF     0\n",
       "4       SEER  WEREWOLF     0\n",
       "7       SEER  WEREWOLF     0\n",
       "8   VILLAGER  WEREWOLF     0\n",
       "10      SEER  WEREWOLF     0\n",
       "12  VILLAGER  WEREWOLF     0\n",
       "14  VILLAGER  WEREWOLF     0\n",
       "15  VILLAGER  WEREWOLF     0\n",
       "19      SEER  WEREWOLF     0\n",
       "20      SEER  WEREWOLF     0\n",
       "22      SEER  WEREWOLF     0\n",
       "25  VILLAGER  WEREWOLF     0\n",
       "35      SEER  WEREWOLF     0\n",
       "36  VILLAGER  WEREWOLF     0\n",
       "45  VILLAGER  WEREWOLF     0\n",
       "49  VILLAGER  WEREWOLF     0\n",
       "50  WEREWOLF  WEREWOLF     0\n",
       "54      SEER  WEREWOLF     0\n",
       "55  VILLAGER  WEREWOLF     0\n",
       "56  VILLAGER  WEREWOLF     0\n",
       "57  VILLAGER  WEREWOLF     0\n",
       "65  VILLAGER  WEREWOLF     0\n",
       "69      SEER  WEREWOLF     0\n",
       "70      SEER  WEREWOLF     0\n",
       "71      SEER  WEREWOLF     0\n",
       "77  VILLAGER  WEREWOLF     0\n",
       "78      SEER  WEREWOLF     0\n",
       "80      SEER  WEREWOLF     0\n",
       "82  VILLAGER  WEREWOLF     0\n",
       "85  WEREWOLF  WEREWOLF     0\n",
       "87      SEER  WEREWOLF     0\n",
       "90  WEREWOLF  WEREWOLF     0\n",
       "91      SEER  WEREWOLF     0\n",
       "95  VILLAGER  WEREWOLF     0\n",
       "96  VILLAGER  WEREWOLF     0"
      ]
     },
     "execution_count": 20,
     "metadata": {},
     "output_type": "execute_result"
    }
   ],
   "source": [
    "possessed_uranai[possessed_uranai[\"lose\"]==0][possessed_uranai[possessed_uranai[\"lose\"]==0][\"hantei\"]==\"WEREWOLF\"]"
   ]
  },
  {
   "cell_type": "code",
   "execution_count": null,
   "metadata": {},
   "outputs": [],
   "source": []
  },
  {
   "cell_type": "code",
   "execution_count": null,
   "metadata": {},
   "outputs": [],
   "source": []
  },
  {
   "cell_type": "code",
   "execution_count": null,
   "metadata": {},
   "outputs": [],
   "source": []
  },
  {
   "cell_type": "code",
   "execution_count": 23,
   "metadata": {
    "scrolled": true
   },
   "outputs": [
    {
     "name": "stdout",
     "output_type": "stream",
     "text": [
      "人間出しして、負ける:\n",
      "0.612903225806\n"
     ]
    }
   ],
   "source": [
    "print(\"人間出しして、負ける:\")\n",
    "print(possessed_uranai[possessed_uranai[\"hantei\"]==\"HUMAN\"][\"lose\"].sum()/ len(possessed_uranai[possessed_uranai[\"hantei\"]==\"HUMAN\"]))"
   ]
  },
  {
   "cell_type": "code",
   "execution_count": 25,
   "metadata": {},
   "outputs": [
    {
     "name": "stdout",
     "output_type": "stream",
     "text": [
      "人間出しして、勝つ:\n",
      "0.387096774194\n"
     ]
    }
   ],
   "source": [
    "print(\"人間出しして、勝つ:\")\n",
    "print(1-possessed_uranai[possessed_uranai[\"hantei\"]==\"HUMAN\"][\"lose\"].sum()/ len(possessed_uranai[possessed_uranai[\"hantei\"]==\"HUMAN\"]))"
   ]
  },
  {
   "cell_type": "code",
   "execution_count": 26,
   "metadata": {},
   "outputs": [
    {
     "name": "stdout",
     "output_type": "stream",
     "text": [
      "人狼出しして、負ける:\n",
      "0.478260869565\n"
     ]
    }
   ],
   "source": [
    "print(\"人狼出しして、負ける:\")\n",
    "print(possessed_uranai[possessed_uranai[\"hantei\"]==\"WEREWOLF\"][\"lose\"].sum()/ len(possessed_uranai[possessed_uranai[\"hantei\"]==\"WEREWOLF\"]))"
   ]
  },
  {
   "cell_type": "code",
   "execution_count": 27,
   "metadata": {},
   "outputs": [
    {
     "name": "stdout",
     "output_type": "stream",
     "text": [
      "人狼出しして、勝つ:\n",
      "0.521739130435\n"
     ]
    }
   ],
   "source": [
    "print(\"人狼出しして、勝つ:\")\n",
    "print(1-possessed_uranai[possessed_uranai[\"hantei\"]==\"WEREWOLF\"][\"lose\"].sum()/ len(possessed_uranai[possessed_uranai[\"hantei\"]==\"WEREWOLF\"]))"
   ]
  },
  {
   "cell_type": "code",
   "execution_count": null,
   "metadata": {},
   "outputs": [],
   "source": []
  },
  {
   "cell_type": "code",
   "execution_count": null,
   "metadata": {},
   "outputs": [],
   "source": []
  },
  {
   "cell_type": "code",
   "execution_count": null,
   "metadata": {},
   "outputs": [],
   "source": []
  },
  {
   "cell_type": "code",
   "execution_count": 28,
   "metadata": {},
   "outputs": [
    {
     "data": {
      "text/plain": [
       "0.47999999999999998"
      ]
     },
     "execution_count": 28,
     "metadata": {},
     "output_type": "execute_result"
    }
   ],
   "source": [
    "result = pd.DataFrame(np.array(div_res)[:,2])\n",
    "result.columns=[\"result\"]\n",
    "(len(result)- pd.to_numeric(result[\"result\"]).sum())/len(result)"
   ]
  },
  {
   "cell_type": "code",
   "execution_count": null,
   "metadata": {},
   "outputs": [],
   "source": []
  },
  {
   "cell_type": "code",
   "execution_count": null,
   "metadata": {},
   "outputs": [],
   "source": []
  },
  {
   "cell_type": "code",
   "execution_count": null,
   "metadata": {},
   "outputs": [],
   "source": []
  },
  {
   "cell_type": "code",
   "execution_count": 29,
   "metadata": {},
   "outputs": [],
   "source": [
    "for day in range(len(data[\"day\"].unique())-1):\n",
    "    G = nx.DiGraph()\n",
    "    for i in range(len(data[data[\"type\"] ==\"vote\"][data[data[\"type\"] ==\"vote\"][\"day\"]==day+1])):\n",
    "        if data[data[\"type\"] ==\"vote\"][data[data[\"type\"] ==\"vote\"][\"day\"]==day+1][\"idx\"].values[i] in data[data[\"type\"]==\"initialize\"][data[data[\"type\"]==\"initialize\"][\"text\"].str.contains(\"WEREWOLF\")][\"idx\"].values:\n",
    "            G.add_node(data[data[\"type\"] ==\"vote\"][data[data[\"type\"] ==\"vote\"][\"day\"]==day+1][\"idx\"].values[i]\n",
    "                       , color = 'red'\n",
    "                       , label=str(data[data[\"type\"] ==\"vote\"][data[data[\"type\"] ==\"vote\"][\"day\"]==day+1][\"idx\"].values[i])+\": WOLF\")\n",
    "        elif data[data[\"type\"] ==\"vote\"][data[data[\"type\"] ==\"vote\"][\"day\"]==day+1][\"idx\"].values[i] in data[data[\"type\"]==\"initialize\"][data[data[\"type\"]==\"initialize\"][\"text\"].str.contains(\"POSSESSED\")][\"idx\"].values:\n",
    "            if data[data[\"type\"] ==\"vote\"][data[data[\"type\"] ==\"vote\"][\"day\"]==day+1][\"idx\"].values[i] in data[(data[\"text\"].str.contains(\"COMINGOUT\"))&(data[\"text\"].str.contains(\"SEER\"))][\"agent\"].unique():\n",
    "                G.add_node(data[data[\"type\"] ==\"vote\"][data[data[\"type\"] ==\"vote\"][\"day\"]==day+1][\"idx\"].values[i]\n",
    "                           , color = 'purple'\n",
    "                           , label=str(data[data[\"type\"] ==\"vote\"][data[data[\"type\"] ==\"vote\"][\"day\"]==day+1][\"idx\"].values[i])+\": POSS\")\n",
    "            elif data[data[\"type\"] ==\"vote\"][data[data[\"type\"] ==\"vote\"][\"day\"]==day+1][\"idx\"].values[i] in data[(data[\"text\"].str.contains(\"COMINGOUT\"))&(data[\"text\"].str.contains(\"MEDIUM\"))][\"agent\"].unique():\n",
    "                G.add_node(data[data[\"type\"] ==\"vote\"][data[data[\"type\"] ==\"vote\"][\"day\"]==day+1][\"idx\"].values[i]\n",
    "                           , color = 'blue'\n",
    "                           , label=str(data[data[\"type\"] ==\"vote\"][data[data[\"type\"] ==\"vote\"][\"day\"]==day+1][\"idx\"].values[i])+\": POSS\")\n",
    "            else :\n",
    "                G.add_node(data[data[\"type\"] ==\"vote\"][data[data[\"type\"] ==\"vote\"][\"day\"]==day+1][\"idx\"].values[i]\n",
    "                           , color = 'pink'\n",
    "                           , label=str(data[data[\"type\"] ==\"vote\"][data[data[\"type\"] ==\"vote\"][\"day\"]==day+1][\"idx\"].values[i])+\": POSS\")\n",
    "        elif data[data[\"type\"] ==\"vote\"][data[data[\"type\"] ==\"vote\"][\"day\"]==day+1][\"idx\"].values[i] in data[data[\"type\"]==\"initialize\"][data[data[\"type\"]==\"initialize\"][\"text\"].str.contains(\"SEER\")][\"idx\"].values:\n",
    "            G.add_node(data[data[\"type\"] ==\"vote\"][data[data[\"type\"] ==\"vote\"][\"day\"]==day+1][\"idx\"].values[i]\n",
    "                       , color = 'purple'\n",
    "                       , label=str(data[data[\"type\"] ==\"vote\"][data[data[\"type\"] ==\"vote\"][\"day\"]==day+1][\"idx\"].values[i])+\": SEER\")\n",
    "        elif data[data[\"type\"] ==\"vote\"][data[data[\"type\"] ==\"vote\"][\"day\"]==day+1][\"idx\"].values[i] in data[data[\"type\"]==\"initialize\"][data[data[\"type\"]==\"initialize\"][\"text\"].str.contains(\"BODYGUARD\")][\"idx\"].values:\n",
    "            G.add_node(data[data[\"type\"] ==\"vote\"][data[data[\"type\"] ==\"vote\"][\"day\"]==day+1][\"idx\"].values[i]\n",
    "                       , color = 'orange'\n",
    "                       , label=str(data[data[\"type\"] ==\"vote\"][data[data[\"type\"] ==\"vote\"][\"day\"]==day+1][\"idx\"].values[i])+\": BG\")\n",
    "        elif data[data[\"type\"] ==\"vote\"][data[data[\"type\"] ==\"vote\"][\"day\"]==day+1][\"idx\"].values[i] in data[data[\"type\"]==\"initialize\"][data[data[\"type\"]==\"initialize\"][\"text\"].str.contains(\"MEDIUM\")][\"idx\"].values:\n",
    "            G.add_node(data[data[\"type\"] ==\"vote\"][data[data[\"type\"] ==\"vote\"][\"day\"]==day+1][\"idx\"].values[i]\n",
    "                       , color = 'blue'\n",
    "                       , label=str(data[data[\"type\"] ==\"vote\"][data[data[\"type\"] ==\"vote\"][\"day\"]==day+1][\"idx\"].values[i])+\": MEDI\")\n",
    "        else:\n",
    "            G.add_node(data[data[\"type\"] ==\"vote\"][data[data[\"type\"] ==\"vote\"][\"day\"]==day+1][\"idx\"].values[i])        \n",
    "    for i in range(len(data[data[\"type\"] ==\"vote\"][data[data[\"type\"] ==\"vote\"][\"day\"]==day+1])):\n",
    "        if data[data[\"type\"] ==\"vote\"][data[data[\"type\"] ==\"vote\"][\"day\"]==day+1][\"agent\"].values[i] == data[data[\"type\"] ==\"vote\"][data[data[\"type\"] ==\"vote\"][\"day\"]==day+1][\"agent\"].value_counts().index[0]:\n",
    "            G.add_edge(data[data[\"type\"] ==\"vote\"][data[data[\"type\"] ==\"vote\"][\"day\"]==day+1][\"idx\"].values[i],\n",
    "                   data[data[\"type\"] ==\"vote\"][data[data[\"type\"] ==\"vote\"][\"day\"]==day+1][\"agent\"].values[i],color=\"green\")\n",
    "        else:\n",
    "            G.add_edge(data[data[\"type\"] ==\"vote\"][data[data[\"type\"] ==\"vote\"][\"day\"]==day+1][\"idx\"].values[i],\n",
    "                   data[data[\"type\"] ==\"vote\"][data[data[\"type\"] ==\"vote\"][\"day\"]==day+1][\"agent\"].values[i])\n",
    "    \n",
    "    temp = data[data[\"day\"] == day+1][data[data[\"day\"] == day+1][\"type\"]==\"talk\"]\\\n",
    "            [data[data[\"day\"] == day+1][data[data[\"day\"] == day+1][\"type\"]==\"talk\"]\\\n",
    "             [\"text\"].str.contains(\"DIVINED\")]\n",
    "    uranaisaki = data[data[\"day\"] == day+1][data[data[\"day\"] == day+1][\"type\"]==\"talk\"]\\\n",
    "            [data[data[\"day\"] == day+1][data[data[\"day\"] == day+1][\"type\"]==\"talk\"]\\\n",
    "             [\"text\"].str.contains(\"DIVINED\")][\"text\"].str.extract(\"(\\d+)\")\n",
    "    uranaisaki.columns=[\"uranaisaki\"]\n",
    "    uranaisaki[\"uranaisaki\"] = pd.to_numeric(uranaisaki[\"uranaisaki\"])\n",
    "    uranai = pd.merge(pd.merge(temp.join(uranaisaki), role, on=[\"agent\"]),role, left_on=\"uranaisaki\", right_on = \"agent\")\n",
    "    \n",
    "    if len(temp) >0:\n",
    "        for i in range(len(temp)):\n",
    "            if temp[\"text\"].str.split(\" \").values[i][2] ==\"WEREWOLF\":                \n",
    "                G.add_edge(temp.join(uranaisaki)[\"agent\"].values[i]\n",
    "                           , temp.join(uranaisaki)[\"uranaisaki\"].values[i]\n",
    "                           , color = \"purple\"\n",
    "                           , style=\"dashed\"\n",
    "                           , label=\"WOLF\")\n",
    "            elif temp[\"text\"].str.split(\" \").values[i][2] ==\"HUMAN\":                \n",
    "                G.add_edge(temp.join(uranaisaki)[\"agent\"].values[i]\n",
    "                           , temp.join(uranaisaki)[\"uranaisaki\"].values[i]\n",
    "                           , color = \"purple\"\n",
    "                           , style=\"dashed\"\n",
    "                           , label=\"HUMAN\")\n",
    "    if len(data[data[\"day\"]==day+1][data[data[\"day\"]==day+1][\"type\"]==\"guard\"])>0:\n",
    "        G.add_edge(data[data[\"day\"]==day+1][data[data[\"day\"]==day+1][\"type\"]==\"guard\"][\"idx\"].values[0]\n",
    "                   , data[data[\"day\"]==day+1][data[data[\"day\"]==day+1][\"type\"]==\"guard\"][\"agent\"].values[0]\n",
    "                   , color = \"orange\"\n",
    "                   , style=\"dashed\")\n",
    "    \n",
    "    nx.nx_agraph.view_pygraphviz(G, prog='fdp')  # pygraphvizが必要"
   ]
  },
  {
   "cell_type": "code",
   "execution_count": null,
   "metadata": {},
   "outputs": [],
   "source": []
  },
  {
   "cell_type": "code",
   "execution_count": null,
   "metadata": {},
   "outputs": [],
   "source": []
  },
  {
   "cell_type": "code",
   "execution_count": null,
   "metadata": {},
   "outputs": [],
   "source": []
  }
 ],
 "metadata": {
  "kernelspec": {
   "display_name": "Python 3",
   "language": "python",
   "name": "python3"
  },
  "language_info": {
   "codemirror_mode": {
    "name": "ipython",
    "version": 3
   },
   "file_extension": ".py",
   "mimetype": "text/x-python",
   "name": "python",
   "nbconvert_exporter": "python",
   "pygments_lexer": "ipython3",
   "version": "3.6.3"
  }
 },
 "nbformat": 4,
 "nbformat_minor": 2
}
